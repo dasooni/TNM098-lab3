{
 "cells": [
  {
   "cell_type": "code",
   "execution_count": 1,
   "metadata": {},
   "outputs": [],
   "source": [
    "# Task 1\n",
    "\n",
    "import os # For file handling\n",
    "import glob # For effeciently finding all files in a folder\n",
    "import string # For removing punctuation\n",
    "from nltk.tokenize import sent_tokenize # For splitting the text into sentences\n",
    "\n",
    "def load_folder(folder_path):\n",
    "    files = glob.glob(os.path.join(folder_path, '*.txt'))\n",
    "    file_contents = []\n",
    "\n",
    "    for file in files:\n",
    "        with open(file, \"r\") as f:\n",
    "            contents = f.read()\n",
    "        \n",
    "            file_contents.append(contents)\n",
    "            \n",
    "    return file_contents, files\n",
    "\n",
    "\n",
    "def load_sentences(file_contents):\n",
    "    sentences = []\n",
    "    \n",
    "    for file in file_contents:\n",
    "        sentences.append(list(sent_tokenize(file)))\n",
    "\n",
    "    return sentences"
   ]
  },
  {
   "cell_type": "code",
   "execution_count": 10,
   "metadata": {},
   "outputs": [
    {
     "name": "stdout",
     "output_type": "stream",
     "text": [
      "Found sentence: \"i tried out the scales and found that my involuntary host weighed over 195 poundsa good deal of it around the middle\". in file ./Lab3.2\\06.txt  at index  2\n",
      "Found sentence: \"dr rutherford was pacing with surgical precision up and down my den\". in file ./Lab3.2\\08.txt  at index  18\n",
      "Found sentence: \"he looked slightly more selfpossessed than the day before and seemed to be in excellent physical condition\". in file ./Lab3.2\\08.txt  at index  19\n",
      "Found sentence: \"i guessed at the contour beneath my wadded black silk dressing gown and reconsidered my original plan to throw him bodily out of the house for having come without my invitation\". in file ./Lab3.2\\08.txt  at index  20\n"
     ]
    }
   ],
   "source": [
    "\n",
    "file_contents, files  = load_folder('./Lab3.2/')\n",
    "sentences = load_sentences(file_contents)\n",
    "\n",
    "\n",
    "# O(n^2)\n",
    "for i in range(len(sentences)):\n",
    "    for j in range(len(sentences[i])):\n",
    "        sentences[i][j] = sentences[i][j].translate(str.maketrans('', '', string.punctuation)).lower()\n",
    "        sentences[i][j] = sentences[i][j].replace('\\n', ' ')\n",
    "\n",
    "# Compare currentFile to all other files. CurrentFile = value between 0 and 9\n",
    "selectedFileIndex = 1\n",
    "minSentenceLength = 15\n",
    "\n",
    "currentFile = sentences[selectedFileIndex]\n",
    "\n",
    "filteredSentences = sentences.copy() \n",
    "filteredSentences.pop(selectedFileIndex) \n",
    "filteredFiles = files.copy()\n",
    "filteredFiles.pop(selectedFileIndex)\n",
    "\n",
    "# O(n * n * n)\n",
    "for k in range(len(filteredSentences)): # O(n)\n",
    "    for sent in filteredSentences[k]: # O(n)\n",
    "        if sent in currentFile and len(sent) > minSentenceLength: # O(n)\n",
    "            print(\"Found sentence:\", f'\"{sent}\".', \"In file\" , filteredFiles[k], \" at position \", filteredSentences[k].index(sent)) \n"
   ]
  }
 ],
 "metadata": {
  "kernelspec": {
   "display_name": "Python 3",
   "language": "python",
   "name": "python3"
  },
  "language_info": {
   "codemirror_mode": {
    "name": "ipython",
    "version": 3
   },
   "file_extension": ".py",
   "mimetype": "text/x-python",
   "name": "python",
   "nbconvert_exporter": "python",
   "pygments_lexer": "ipython3",
   "version": "3.9.13"
  },
  "orig_nbformat": 4
 },
 "nbformat": 4,
 "nbformat_minor": 2
}
