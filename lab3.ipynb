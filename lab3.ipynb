{
 "cells": [
  {
   "cell_type": "code",
   "execution_count": 4,
   "metadata": {},
   "outputs": [],
   "source": [
    "import os\n",
    "import glob\n",
    "import string\n",
    "from collections import Counter\n",
    "\n",
    "def load_folder(folder_path):\n",
    "    files = glob.glob(os.path.join(folder_path, '*.txt'))\n",
    "    file_contents = []\n",
    "    \n",
    "    for file in files:\n",
    "        with open(file, \"r\") as f:\n",
    "             # Remove punctuation, convert to single line, and convert to lowercase\n",
    "            contents = f.read().translate(str.maketrans(\"\", \"\", string.punctuation))\n",
    "            contents = contents.replace(\"\\n\", \" \").lower()\n",
    "            file_contents.append(contents)\n",
    "            \n",
    "    return file_contents\n",
    "\n",
    "\n",
    "files = load_folder(\"./Lab3.2\")\n"
   ]
  },
  {
   "cell_type": "code",
   "execution_count": 5,
   "metadata": {},
   "outputs": [],
   "source": [
    "\n",
    "def create_word_list(files):\n",
    "    words = {}\n",
    "    for content in files:\n",
    "        #Split the content into words\n",
    "        content_words = content.split()\n",
    "        # Add each word to the dictionary if it doesn't already exist\n",
    "        for word in content_words:\n",
    "            if word not in words:\n",
    "                words[word] = len(words)\n",
    "    return words\n",
    "\n",
    "word_list = create_word_list(files)\n"
   ]
  },
  {
   "cell_type": "code",
   "execution_count": 6,
   "metadata": {},
   "outputs": [],
   "source": [
    "\n",
    "def find_copied_text(words, file_contents):\n",
    "    copied_text = {}\n",
    "    for i , content in enumerate(file_contents):\n",
    "        content_words = content.split()\n",
    "        for j in range(len(content_words)):\n",
    "            # Check if the current word sequence is present in any other file\n",
    "            if content_words[j] in words:\n",
    "                current_word_seq = [words[w] for w in content_words[j:]]\n",
    "                for k in range(i+1, len(file_contents)):\n",
    "                    target_content = file_contents[k]\n",
    "                    target_words = target_content.split()\n",
    "                    \n",
    "                    if target_words[0] in words:\n",
    "                        target_word_seq = [words[w] for w in target_words]\n",
    "                        #Find the starting index of the current word sequence in the target file\n",
    "                        target_start_index = next((n for n, x in enumerate(target_word_seq) if x == current_word_seq[0]), None)\n",
    "                        if target_start_index is not None:\n",
    "                            # Check if the current word sequence matches the target word sequence\n",
    "                            if target_word_seq[target_start_index:target_start_index+len(current_word_seq)] == current_word_seq:\n",
    "                                #Add the copied text to the dictionary\n",
    "                                copied_text[tuple(current_word_seq)] = {\"source\": f\"file{i+1}\", \"destination\": f\"file{k+1}\"}\n",
    "    return copied_text\n",
    "\n",
    "\n",
    "copied_text = find_copied_text(word_list, files)"
   ]
  }
 ],
 "metadata": {
  "kernelspec": {
   "display_name": "Python 3",
   "language": "python",
   "name": "python3"
  },
  "language_info": {
   "codemirror_mode": {
    "name": "ipython",
    "version": 3
   },
   "file_extension": ".py",
   "mimetype": "text/x-python",
   "name": "python",
   "nbconvert_exporter": "python",
   "pygments_lexer": "ipython3",
   "version": "3.10.11"
  },
  "orig_nbformat": 4
 },
 "nbformat": 4,
 "nbformat_minor": 2
}
