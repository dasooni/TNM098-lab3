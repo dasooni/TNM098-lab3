{
 "cells": [
  {
   "cell_type": "code",
   "execution_count": 4,
   "metadata": {},
   "outputs": [],
   "source": [
    "import os\n",
    "import glob\n",
    "import string\n",
    "\n",
    "def load_folder(folder_path):\n",
    "    files = glob.glob(os.path.join(folder_path, '*.txt'))\n",
    "    file_contents = []\n",
    "    \n",
    "    for file in files:\n",
    "        with open(file, \"r\") as f:\n",
    "             # Remove punctuation, convert to single line, and convert to lowercase\n",
    "            contents = f.read().translate(str.maketrans(\"\", \"\", string.punctuation))\n",
    "            contents = contents.replace(\"\\n\", \" \").lower()\n",
    "            file_contents.append(contents)\n",
    "            \n",
    "    return file_contents\n",
    "\n",
    "\n",
    "files = load_folder(\"./Lab3.2\")\n"
   ]
  },
  {
   "cell_type": "code",
   "execution_count": null,
   "metadata": {},
   "outputs": [],
   "source": [
    "\n",
    "\n"
   ]
  }
 ],
 "metadata": {
  "kernelspec": {
   "display_name": "Python 3",
   "language": "python",
   "name": "python3"
  },
  "language_info": {
   "codemirror_mode": {
    "name": "ipython",
    "version": 3
   },
   "file_extension": ".py",
   "mimetype": "text/x-python",
   "name": "python",
   "nbconvert_exporter": "python",
   "pygments_lexer": "ipython3",
   "version": "3.10.11"
  },
  "orig_nbformat": 4
 },
 "nbformat": 4,
 "nbformat_minor": 2
}
